{
 "cells": [
  {
   "cell_type": "markdown",
   "metadata": {},
   "source": [
    "# LAB 2: Solving a System of Linear Equations, Eigenvalues, and Eigenvectors\n",
    "\n",
    "In this lab you will use python to study the following topics:\n",
    "\n",
    "- How to calculate the inverse of a matrix using numpy.\n",
    "\n",
    "- How to calculate the determinant of a matrix using numpy.\n",
    "\n",
    "- How to solve a system of linear equations.\n",
    "\n",
    "- Determination of eigenvalues and eigenvectors using numpy."
   ]
  },
  {
   "cell_type": "markdown",
   "metadata": {},
   "source": [
    "# First: you should run this cell"
   ]
  },
  {
   "cell_type": "code",
   "execution_count": 1,
   "metadata": {},
   "outputs": [],
   "source": [
    "# Make all numpy available via shorter 'np' prefix\n",
    "import numpy as np\n",
    "\n",
    "#import plotter\n",
    "import matplotlib.pyplot as plt"
   ]
  },
  {
   "cell_type": "markdown",
   "metadata": {},
   "source": [
    "# Question 1 : Determinant and Inverse\n",
    "\n",
    "Use [numpy.linalg.inv](https://numpy.org/doc/stable/reference/generated/numpy.linalg.inv.html) and [numpy.linalg.det](https://numpy.org/doc/stable/reference/generated/numpy.linalg.det.html) to calculate the determinant and the inverse for the following matrices:\n",
    "\n",
    "$A = \\begin{bmatrix} 1 & 2   \\\\ 3 & 4   \\\\ \\end{bmatrix}$,\n",
    "$B = \\begin{bmatrix} 1 & 2   \\\\ 3 & 6   \\\\ \\end{bmatrix}$, \n",
    "$C = \\begin{bmatrix} 1 & 2 & 4  \\\\ 2 & -1 & 3 \\\\ 4 & 0 & 1  \\\\ \\end{bmatrix}$,\n",
    "and $D = \\begin{bmatrix} 1 & 2 & 5  \\\\ 2 & 3 & 7 \\\\ 1 & 1 & 2  \\\\ \\end{bmatrix}$"
   ]
  },
  {
   "cell_type": "code",
   "execution_count": 2,
   "metadata": {},
   "outputs": [],
   "source": [
    "A = np.array([1,2,3,4]).reshape(2,2)\n",
    "B = np.array([1,2,3,6]).reshape(2,2)\n",
    "C = np.array([1,2,4,2,-1,3,4,0,1]).reshape(3,3)\n",
    "D = np.array([1,2,5,2,3,7,1,1,2]).reshape(3,3)"
   ]
  },
  {
   "cell_type": "code",
   "execution_count": 3,
   "metadata": {},
   "outputs": [
    {
     "name": "stdout",
     "output_type": "stream",
     "text": [
      "\n",
      "A Invert\n",
      "[[-2.   1. ]\n",
      " [ 1.5 -0.5]]\n",
      "A det\n",
      "-2.0000000000000004\n",
      "\n",
      "B Invert\n",
      "NO invert for B\n",
      "B det\n",
      "0.0\n",
      "\n",
      "C Invert\n",
      "[[-0.02857143 -0.05714286  0.28571429]\n",
      " [ 0.28571429 -0.42857143  0.14285714]\n",
      " [ 0.11428571  0.22857143 -0.14285714]]\n",
      "C det\n",
      "34.99999999999999\n",
      "\n",
      "D Invert\n",
      "NO invert for D\n",
      "D det\n",
      "0.0\n"
     ]
    }
   ],
   "source": [
    "print(\"\\nA Invert\")\n",
    "print(np.linalg.inv(A))\n",
    "print(\"A det\")\n",
    "print(np.linalg.det(A))\n",
    "print(\"\\nB Invert\")\n",
    "try: \n",
    "    print(np.linalg.inv(B))\n",
    "except:\n",
    "    print(\"NO invert for B\")\n",
    "print(\"B det\")\n",
    "print(np.linalg.det(B))\n",
    "print(\"\\nC Invert\")\n",
    "print(np.linalg.inv(C))\n",
    "print(\"C det\")\n",
    "print(np.linalg.det(C))\n",
    "print(\"\\nD Invert\")\n",
    "try: \n",
    "    print(np.linalg.inv(D))\n",
    "except:\n",
    "    print(\"NO invert for D\")\n",
    "print(\"D det\")\n",
    "print(np.linalg.det(D))"
   ]
  },
  {
   "cell_type": "code",
   "execution_count": 4,
   "metadata": {},
   "outputs": [],
   "source": [
    "#type your code here:\n"
   ]
  },
  {
   "cell_type": "markdown",
   "metadata": {},
   "source": [
    "# Question 2 : Solving $Ax = b$\n",
    "\n",
    "Solve $Ax = b$ using the inverse of $A$ for the following systems of linear equations:\n",
    "\n",
    "1) $x + 2y = -1$; $3x + 4y = 1$\n",
    "\n",
    "2) $3x - 2y + z = 7$; $x + z = 2$; $-2y - z = 3$"
   ]
  },
  {
   "cell_type": "code",
   "execution_count": 5,
   "metadata": {},
   "outputs": [
    {
     "name": "stdout",
     "output_type": "stream",
     "text": [
      "[3.] [-2.]\n"
     ]
    }
   ],
   "source": [
    "A = np.array([1,2,3,4 ]).reshape(2,2)\n",
    "b = np.array([-1,1]).reshape(2,1)\n",
    "x,y = np.linalg.solve(A,b)\n",
    "print(x , y)"
   ]
  },
  {
   "cell_type": "code",
   "execution_count": 20,
   "metadata": {},
   "outputs": [
    {
     "name": "stdout",
     "output_type": "stream",
     "text": [
      "[[ 0. ]\n",
      " [-2.5]\n",
      " [ 2. ]]\n"
     ]
    }
   ],
   "source": [
    "A = np.array([3,-2,1,1,0,1,0,-2,-1]).reshape(3,3)\n",
    "b = np.array([7,2,3]).reshape(3,1)\n",
    "s1 = np.linalg.solve(A,b)\n",
    "print(s1)"
   ]
  },
  {
   "cell_type": "code",
   "execution_count": 7,
   "metadata": {},
   "outputs": [
    {
     "data": {
      "text/plain": [
       "array([[ 3.],\n",
       "       [-2.]])"
      ]
     },
     "execution_count": 7,
     "metadata": {},
     "output_type": "execute_result"
    }
   ],
   "source": [
    "A = np.array([1,2,3,4]).reshape(2,2)\n",
    "b = np.array([-1,1]).reshape(2,1)\n",
    "s =  np.linalg.inv(A)@b\n",
    "s"
   ]
  },
  {
   "cell_type": "code",
   "execution_count": 17,
   "metadata": {},
   "outputs": [
    {
     "data": {
      "text/plain": [
       "array([[-4.4408921e-16],\n",
       "       [-2.5000000e+00],\n",
       "       [ 2.0000000e+00]])"
      ]
     },
     "execution_count": 17,
     "metadata": {},
     "output_type": "execute_result"
    }
   ],
   "source": [
    "A = np.array([3,-2,1,1,0,1,0,-2,-1]).reshape(3,3)\n",
    "b = np.array([7,2,3]).reshape(3,1)\n",
    "s =  np.matmul(np.linalg.inv(A),b)\n",
    "s"
   ]
  },
  {
   "cell_type": "code",
   "execution_count": 21,
   "metadata": {},
   "outputs": [
    {
     "data": {
      "text/plain": [
       "array([[7.],\n",
       "       [2.],\n",
       "       [3.]])"
      ]
     },
     "execution_count": 21,
     "metadata": {},
     "output_type": "execute_result"
    }
   ],
   "source": [
    "A@s1"
   ]
  },
  {
   "cell_type": "code",
   "execution_count": 22,
   "metadata": {},
   "outputs": [
    {
     "data": {
      "text/plain": [
       "array([[7.],\n",
       "       [2.],\n",
       "       [3.]])"
      ]
     },
     "execution_count": 22,
     "metadata": {},
     "output_type": "execute_result"
    }
   ],
   "source": [
    "A@s"
   ]
  },
  {
   "cell_type": "code",
   "execution_count": 9,
   "metadata": {},
   "outputs": [],
   "source": [
    "#type your code here:\n"
   ]
  },
  {
   "cell_type": "markdown",
   "metadata": {},
   "source": [
    "# Question 3 : Eigenvalues and Eigenvectors\n",
    "\n",
    "a) Use [numpy.linalg.eig](https://numpy.org/doc/stable/reference/generated/numpy.linalg.eig.html) to obtain the eigenvalues of `A` as follows:\n",
    "    - `w, v = np.linalg.eig(A)`. Where `w` are the eigenvalues and `v`the normalized (unit “length”) eigenvectors, such that the column `v[:,i]` is the eigenvector corresponding to the eigenvalue `w[i]`.\n",
    "    \n",
    "$A = \\begin{bmatrix} 1 & 2   \\\\ 4 & 3   \\\\ \\end{bmatrix}$\n",
    "\n",
    "- Plot the vectors $v_i$ and $Av_i$, where $v_i$ are the eigenvectors of $A$"
   ]
  },
  {
   "cell_type": "code",
   "execution_count": 10,
   "metadata": {},
   "outputs": [
    {
     "name": "stdout",
     "output_type": "stream",
     "text": [
      "w: [-0.37228132  5.37228132]\n",
      "v: [[-0.82456484 -0.41597356]\n",
      " [ 0.56576746 -0.90937671]]\n"
     ]
    }
   ],
   "source": [
    "A = np.array([1,2,3,4]).reshape(2,2)\n",
    "w,v = np.linalg.eig(A)\n",
    "print(f'w: {w}\\nv: {v}')"
   ]
  },
  {
   "cell_type": "code",
   "execution_count": 11,
   "metadata": {},
   "outputs": [],
   "source": [
    "#type your code here:\n"
   ]
  },
  {
   "cell_type": "markdown",
   "metadata": {},
   "source": [
    "B) Obtain the eigenvalues and the eigenvectors for $B$\n",
    "\n",
    "$B = \\begin{bmatrix} 5 & 4 & 9  \\\\ 1 & 4 & 0 \\\\ 9 & 5 & 5  \\\\ \\end{bmatrix}$"
   ]
  },
  {
   "cell_type": "code",
   "execution_count": 12,
   "metadata": {},
   "outputs": [],
   "source": [
    "#type your code here:\n"
   ]
  },
  {
   "cell_type": "code",
   "execution_count": 13,
   "metadata": {},
   "outputs": [
    {
     "data": {
      "text/plain": [
       "(-5.0, 5.0)"
      ]
     },
     "execution_count": 13,
     "metadata": {},
     "output_type": "execute_result"
    },
    {
     "data": {
      "image/png": "[encoded data removed]",
      "text/plain": [
       "<Figure size 432x288 with 1 Axes>"
      ]
     },
     "metadata": {
      "needs_background": "light"
     },
     "output_type": "display_data"
    }
   ],
   "source": [
    "plt.xlim(-5, 5)\n",
    "\n",
    "plt.ylim(-5, 5)"
   ]
  },
  {
   "cell_type": "code",
   "execution_count": null,
   "metadata": {},
   "outputs": [],
   "source": []
  }
 ],
 "metadata": {
  "kernelspec": {
   "display_name": "Python 3",
   "language": "python",
   "name": "python3"
  },
  "language_info": {
   "codemirror_mode": {
    "name": "ipython",
    "version": 3
   },
   "file_extension": ".py",
   "mimetype": "text/x-python",
   "name": "python",
   "nbconvert_exporter": "python",
   "pygments_lexer": "ipython3",
   "version": "3.8.3"
  }
 },
 "nbformat": 4,
 "nbformat_minor": 4
}
