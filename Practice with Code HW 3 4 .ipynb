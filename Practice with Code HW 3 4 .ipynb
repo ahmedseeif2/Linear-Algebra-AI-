{
 "cells": [
  {
   "cell_type": "markdown",
   "metadata": {},
   "source": [
    "### LAFDS Session 3 Homework"
   ]
  },
  {
   "cell_type": "markdown",
   "metadata": {},
   "source": [
    "### Calculating the inverse of a 2x2 matrix without using numpy\n",
    "> Code a function to calculate the determinant of 2x2 matrix<br>\n",
    "Code a function that interchange the diagonal elements of a 2x2 matrix and inverse the sign of the off diagonal elements<br>\n",
    "Code a function to compute the inverse of 2x2 matrix based on the two previous functions if it exists<br>\n"
   ]
  },
  {
   "cell_type": "code",
   "execution_count": 1,
   "metadata": {},
   "outputs": [],
   "source": [
    "M = [[5,4],[6,7]]"
   ]
  },
  {
   "cell_type": "code",
   "execution_count": 2,
   "metadata": {},
   "outputs": [],
   "source": [
    "def det_of_2x2(M):\n",
    "     return M[0][0] * M[1][1] - M[0][1] * M[1][0] "
   ]
  },
  {
   "cell_type": "code",
   "execution_count": 3,
   "metadata": {
    "scrolled": true
   },
   "outputs": [
    {
     "data": {
      "text/plain": [
       "11"
      ]
     },
     "execution_count": 3,
     "metadata": {},
     "output_type": "execute_result"
    }
   ],
   "source": [
    "det_of_2x2(M)"
   ]
  },
  {
   "cell_type": "code",
   "execution_count": 4,
   "metadata": {},
   "outputs": [],
   "source": [
    "def change_and_inverse_of_2x2(M):\n",
    "    return [[M[1][1], -1*M[0][1]], [-1*M[1][0], M[0][0]]]"
   ]
  },
  {
   "cell_type": "code",
   "execution_count": 5,
   "metadata": {},
   "outputs": [
    {
     "data": {
      "text/plain": [
       "[[7, -4], [-6, 5]]"
      ]
     },
     "execution_count": 5,
     "metadata": {},
     "output_type": "execute_result"
    }
   ],
   "source": [
    "change_and_inverse_of_2x2(M)"
   ]
  },
  {
   "cell_type": "code",
   "execution_count": 6,
   "metadata": {},
   "outputs": [
    {
     "data": {
      "text/plain": [
       "[[5, 4], [6, 7]]"
      ]
     },
     "execution_count": 6,
     "metadata": {},
     "output_type": "execute_result"
    }
   ],
   "source": [
    "M"
   ]
  },
  {
   "cell_type": "code",
   "execution_count": 7,
   "metadata": {},
   "outputs": [],
   "source": [
    "def inverse_of_2x2(M):\n",
    "    det = det_of_2x2(M)\n",
    "    adj = change_and_inverse_of_2x2(M)\n",
    "    from copy import deepcopy\n",
    "    M_inverse = deepcopy(M)\n",
    "    for row in range(len(adj)):\n",
    "        for number in range(len(adj[0])):\n",
    "            M_inverse[row][number] = adj[row][number]/det\n",
    "            \n",
    "    return M_inverse"
   ]
  },
  {
   "cell_type": "code",
   "execution_count": 8,
   "metadata": {},
   "outputs": [
    {
     "data": {
      "text/plain": [
       "[[0.6363636363636364, -0.36363636363636365],\n",
       " [-0.5454545454545454, 0.45454545454545453]]"
      ]
     },
     "execution_count": 8,
     "metadata": {},
     "output_type": "execute_result"
    }
   ],
   "source": [
    "M_inverse = inverse_of_2x2(M)\n",
    "M_inverse"
   ]
  },
  {
   "cell_type": "code",
   "execution_count": 9,
   "metadata": {},
   "outputs": [
    {
     "data": {
      "text/plain": [
       "[[5, 4], [6, 7]]"
      ]
     },
     "execution_count": 9,
     "metadata": {},
     "output_type": "execute_result"
    }
   ],
   "source": [
    "M"
   ]
  },
  {
   "cell_type": "code",
   "execution_count": 10,
   "metadata": {},
   "outputs": [],
   "source": [
    "import numpy as np"
   ]
  },
  {
   "cell_type": "code",
   "execution_count": 11,
   "metadata": {},
   "outputs": [
    {
     "data": {
      "text/plain": [
       "array([[ 0.63636364, -0.36363636],\n",
       "       [-0.54545455,  0.45454545]])"
      ]
     },
     "execution_count": 11,
     "metadata": {},
     "output_type": "execute_result"
    }
   ],
   "source": [
    "m = np.array(M)\n",
    "np.linalg.inv(m)"
   ]
  },
  {
   "cell_type": "code",
   "execution_count": null,
   "metadata": {},
   "outputs": [],
   "source": []
  },
  {
   "cell_type": "markdown",
   "metadata": {},
   "source": [
    "### Coding a Python code to inverse a 3x3 matrix in order to solve a linear system (no numpy.linalg.inv allowed) with 3 constraints and 3 variables:\n",
    "> Coding a function that checks if a 3x3 matrix is invertible<br>\n",
    "Coding a function that generates the transpose of a 3x3 matrix<br>\n",
    "Coding a function that generates the matrix of minors of a 3x3 matrix<br>\n",
    "Coding a function that generates the matrix of cofactors of a 3x3 matrix<br>\n",
    "Coding a function that generates the inverse of a 3x3 matrix if it exists<br>\n"
   ]
  },
  {
   "cell_type": "code",
   "execution_count": 12,
   "metadata": {},
   "outputs": [],
   "source": [
    "def Minors_matrix(M):\n",
    "    from copy import deepcopy\n",
    "    M_minor =  deepcopy(M)\n",
    "    for row in range(len(M)):\n",
    "        for column in range(len(M[0])):\n",
    "#             print(del_row_column(M,row,column))\n",
    "            M_minor[row][column] = det_of_2x2(del_row_column(M,row,column))\n",
    "    return M_minor"
   ]
  },
  {
   "cell_type": "code",
   "execution_count": 13,
   "metadata": {},
   "outputs": [],
   "source": [
    "def det_3x3(m):\n",
    "    minors = Minors_matrix(m)\n",
    "    return minors[0][0]*m[0][0]-minors[0][1]*m[0][1]+minors[0][2]*m[0][2]"
   ]
  },
  {
   "cell_type": "code",
   "execution_count": 14,
   "metadata": {},
   "outputs": [],
   "source": [
    "def is_invertible(M):\n",
    "    try:\n",
    "        if det_3x3(M) != 0:\n",
    "            return True\n",
    "        else:\n",
    "            return False\n",
    "    except:\n",
    "        pass"
   ]
  },
  {
   "cell_type": "code",
   "execution_count": 15,
   "metadata": {},
   "outputs": [],
   "source": [
    "is_invertible(m)"
   ]
  },
  {
   "cell_type": "code",
   "execution_count": 16,
   "metadata": {},
   "outputs": [],
   "source": [
    "m = [[5,4,9],[6,7,19],[11,13,6]]"
   ]
  },
  {
   "cell_type": "code",
   "execution_count": 17,
   "metadata": {},
   "outputs": [],
   "source": [
    "def transpose_matrix(Matrix):\n",
    "    from copy import deepcopy\n",
    "    M_T =  deepcopy(Matrix)\n",
    "#     M_T =  [[0]*len(m)]*len(m[0])\n",
    "    for i in range(len(M_T)):\n",
    "        \n",
    "        for j in range(len(M_T[0])):       \n",
    "#             print(i,j)\n",
    "#             print(M_T[i][j])\n",
    "#             print(Matrix[j][i])\n",
    "             M_T[i][j] = Matrix[j][i]\n",
    "    \n",
    "    return M_T"
   ]
  },
  {
   "cell_type": "code",
   "execution_count": 18,
   "metadata": {
    "scrolled": true
   },
   "outputs": [
    {
     "data": {
      "text/plain": [
       "[[5, 6, 11], [4, 7, 13], [9, 19, 6]]"
      ]
     },
     "execution_count": 18,
     "metadata": {},
     "output_type": "execute_result"
    }
   ],
   "source": [
    "MT = transpose_matrix(m)\n",
    "MT"
   ]
  },
  {
   "cell_type": "code",
   "execution_count": 19,
   "metadata": {},
   "outputs": [
    {
     "data": {
      "text/plain": [
       "array([[ 5,  6, 11],\n",
       "       [ 4,  7, 13],\n",
       "       [ 9, 19,  6]])"
      ]
     },
     "execution_count": 19,
     "metadata": {},
     "output_type": "execute_result"
    }
   ],
   "source": [
    "np.transpose(m)"
   ]
  },
  {
   "cell_type": "code",
   "execution_count": 20,
   "metadata": {},
   "outputs": [],
   "source": [
    "m = [[5,4,9],[6,7,19],[11,13,6]]"
   ]
  },
  {
   "cell_type": "code",
   "execution_count": 21,
   "metadata": {},
   "outputs": [],
   "source": [
    "def del_row_column(M,row,column):\n",
    "    from copy import deepcopy\n",
    "    Msmall =  deepcopy(M)\n",
    "    Msmall.pop(row)\n",
    "    for row in range(len(Msmall)):\n",
    "        Msmall[row].pop(column)\n",
    "        \n",
    "    return Msmall"
   ]
  },
  {
   "cell_type": "code",
   "execution_count": 22,
   "metadata": {},
   "outputs": [],
   "source": [
    "m = [[5,4,9],[6,7,19],[11,13,6]]"
   ]
  },
  {
   "cell_type": "code",
   "execution_count": 23,
   "metadata": {},
   "outputs": [
    {
     "data": {
      "text/plain": [
       "[[-205, -173, 1], [-93, -69, 21], [13, 41, 11]]"
      ]
     },
     "execution_count": 23,
     "metadata": {},
     "output_type": "execute_result"
    }
   ],
   "source": [
    "Minors_matrix(m)"
   ]
  },
  {
   "cell_type": "code",
   "execution_count": 24,
   "metadata": {},
   "outputs": [],
   "source": [
    "def Cofactor(M):\n",
    "    from copy import deepcopy\n",
    "    M_Cofactor = deepcopy(M)\n",
    "    for row in range(len(M)):\n",
    "        for column in range(len(M[0])):\n",
    "            M_Cofactor[row][column] = ((-1)**(row+column+1+1))*M[row][column]\n",
    "            \n",
    "    return M_Cofactor"
   ]
  },
  {
   "cell_type": "code",
   "execution_count": 25,
   "metadata": {},
   "outputs": [
    {
     "data": {
      "text/plain": [
       "[[5, -4, 9], [-6, 7, -19], [11, -13, 6]]"
      ]
     },
     "execution_count": 25,
     "metadata": {},
     "output_type": "execute_result"
    }
   ],
   "source": [
    "Cofactor(m)"
   ]
  },
  {
   "cell_type": "code",
   "execution_count": 26,
   "metadata": {},
   "outputs": [],
   "source": [
    "def inverse_3x3(M):\n",
    "    if is_invertible(M):\n",
    "        minors = Minors_matrix(M)\n",
    "\n",
    "        det = det_3x3(M)\n",
    "\n",
    "        cof = Cofactor(minors)\n",
    "\n",
    "        adj = transpose_matrix(cof)\n",
    "\n",
    "        from copy import deepcopy\n",
    "        M_inverse = deepcopy(M)\n",
    "        for row in range(len(adj)):\n",
    "            for number in range(len(adj[0])):\n",
    "                M_inverse[row][number] = adj[row][number]/det\n",
    "\n",
    "        return M_inverse\n",
    "    else:\n",
    "        print(\"Can't be inverted\")\n",
    "    "
   ]
  },
  {
   "cell_type": "code",
   "execution_count": 27,
   "metadata": {},
   "outputs": [
    {
     "data": {
      "text/plain": [
       "array([[ 0.63271605, -0.28703704, -0.04012346],\n",
       "       [-0.53395062,  0.21296296,  0.12654321],\n",
       "       [-0.00308642,  0.06481481, -0.03395062]])"
      ]
     },
     "execution_count": 27,
     "metadata": {},
     "output_type": "execute_result"
    }
   ],
   "source": [
    "np.linalg.inv(m)"
   ]
  },
  {
   "cell_type": "code",
   "execution_count": 28,
   "metadata": {},
   "outputs": [
    {
     "data": {
      "text/plain": [
       "[[0.6327160493827161, -0.28703703703703703, -0.040123456790123455],\n",
       " [-0.5339506172839507, 0.21296296296296297, 0.12654320987654322],\n",
       " [-0.0030864197530864196, 0.06481481481481481, -0.033950617283950615]]"
      ]
     },
     "execution_count": 28,
     "metadata": {},
     "output_type": "execute_result"
    }
   ],
   "source": [
    "inverse_3x3(m)"
   ]
  },
  {
   "cell_type": "code",
   "execution_count": null,
   "metadata": {},
   "outputs": [],
   "source": []
  }
 ],
 "metadata": {
  "kernelspec": {
   "display_name": "Python 3",
   "language": "python",
   "name": "python3"
  },
  "language_info": {
   "codemirror_mode": {
    "name": "ipython",
    "version": 3
   },
   "file_extension": ".py",
   "mimetype": "text/x-python",
   "name": "python",
   "nbconvert_exporter": "python",
   "pygments_lexer": "ipython3",
   "version": "3.8.3"
  }
 },
 "nbformat": 4,
 "nbformat_minor": 4
}
