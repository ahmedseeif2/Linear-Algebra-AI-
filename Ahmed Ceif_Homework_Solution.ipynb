{
 "cells": [
  {
   "cell_type": "markdown",
   "metadata": {},
   "source": [
    "# session 1"
   ]
  },
  {
   "cell_type": "code",
   "execution_count": 2,
   "metadata": {},
   "outputs": [],
   "source": [
    "# Make all numpy available via shorter 'np' prefix\n",
    "import numpy as np\n",
    "\n",
    "import matplotlib.pyplot as plt"
   ]
  },
  {
   "cell_type": "code",
   "execution_count": 4,
   "metadata": {},
   "outputs": [
    {
     "name": "stdout",
     "output_type": "stream",
     "text": [
      "1.16.5\n"
     ]
    }
   ],
   "source": [
    "#1\n",
    "print(np.__version__)"
   ]
  },
  {
   "cell_type": "code",
   "execution_count": 5,
   "metadata": {},
   "outputs": [
    {
     "name": "stdout",
     "output_type": "stream",
     "text": [
      "add(x1, x2, /, out=None, *, where=True, casting='same_kind', order='K', dtype=None, subok=True[, signature, extobj])\n",
      "\n",
      "Add arguments element-wise.\n",
      "\n",
      "Parameters\n",
      "----------\n",
      "x1, x2 : array_like\n",
      "    The arrays to be added.  If ``x1.shape != x2.shape``, they must be\n",
      "    broadcastable to a common shape (which may be the shape of one or\n",
      "    the other).\n",
      "out : ndarray, None, or tuple of ndarray and None, optional\n",
      "    A location into which the result is stored. If provided, it must have\n",
      "    a shape that the inputs broadcast to. If not provided or `None`,\n",
      "    a freshly-allocated array is returned. A tuple (possible only as a\n",
      "    keyword argument) must have length equal to the number of outputs.\n",
      "where : array_like, optional\n",
      "    Values of True indicate to calculate the ufunc at that position, values\n",
      "    of False indicate to leave the value in the output alone.\n",
      "**kwargs\n",
      "    For other keyword-only arguments, see the\n",
      "    :ref:`ufunc docs <ufuncs.kwargs>`.\n",
      "\n",
      "Returns\n",
      "-------\n",
      "add : ndarray or scalar\n",
      "    The sum of `x1` and `x2`, element-wise.\n",
      "    This is a scalar if both `x1` and `x2` are scalars.\n",
      "\n",
      "Notes\n",
      "-----\n",
      "Equivalent to `x1` + `x2` in terms of array broadcasting.\n",
      "\n",
      "Examples\n",
      "--------\n",
      ">>> np.add(1.0, 4.0)\n",
      "5.0\n",
      ">>> x1 = np.arange(9.0).reshape((3, 3))\n",
      ">>> x2 = np.arange(3.0)\n",
      ">>> np.add(x1, x2)\n",
      "array([[  0.,   2.,   4.],\n",
      "       [  3.,   5.,   7.],\n",
      "       [  6.,   8.,  10.]])\n",
      "None\n"
     ]
    }
   ],
   "source": [
    "#2 \n",
    "print(np.info(np.add))"
   ]
  },
  {
   "cell_type": "code",
   "execution_count": 10,
   "metadata": {},
   "outputs": [
    {
     "name": "stdout",
     "output_type": "stream",
     "text": [
      "True\n"
     ]
    }
   ],
   "source": [
    "#3\n",
    "x = np.array([1, 0, 0, 0])\n",
    "\n",
    "print(np.any(x))"
   ]
  },
  {
   "cell_type": "code",
   "execution_count": 16,
   "metadata": {},
   "outputs": [
    {
     "name": "stdout",
     "output_type": "stream",
     "text": [
      "9.42477796076938\n"
     ]
    },
    {
     "data": {
      "image/png": "[encoded data removed]",
      "text/plain": [
       "<Figure size 432x288 with 1 Axes>"
      ]
     },
     "metadata": {
      "needs_background": "light"
     },
     "output_type": "display_data"
    }
   ],
   "source": [
    "#4\n",
    "x = np.arange(0, 10, 0.2)\n",
    "y = np.sin(x)\n",
    "\n",
    "plt.plot(x, y)\n",
    "plt.show()"
   ]
  },
  {
   "cell_type": "code",
   "execution_count": 22,
   "metadata": {},
   "outputs": [
    {
     "name": "stdout",
     "output_type": "stream",
     "text": [
      "[[1 1 0 2]\n",
      " [0 3 0 3]\n",
      " [1 0 4 4]]\n",
      "[[1 1 0 2]\n",
      " [0 3 0 3]\n",
      " [0 0 0 4]]\n"
     ]
    }
   ],
   "source": [
    "#5\n",
    "m = np.array([[1,1,0,2],[0,3,0,3],[1,0,4,4]])\n",
    "zeros = []\n",
    "print(m)\n",
    "for i in range(len(m)):\n",
    "    for j in range(len(m[i])):\n",
    "        if m[i][j] == 0:\n",
    "            zeros.append([i, j])\n",
    "            \n",
    "for i in range(len(zeros)):\n",
    "    l = zeros[i]\n",
    "    if l[0] < len(m)-1:\n",
    "        m[l[0]+1][l[1]] = 0\n",
    "\n",
    "print(m)"
   ]
  },
  {
   "cell_type": "code",
   "execution_count": 18,
   "metadata": {},
   "outputs": [
    {
     "name": "stdout",
     "output_type": "stream",
     "text": [
      "[[1 1 0 2]\n",
      " [0 3 0 3]\n",
      " [1 0 4 4]]\n",
      "\n",
      "Elements of the said array greater than 2\n",
      "[3 3 4 4]\n",
      "\n",
      "Elements of the said array less than 3\n",
      "[1 1 0 2 0 0 1 0]\n"
     ]
    }
   ],
   "source": [
    "#6\n",
    "nums = np.array([[1, 1, 0, 2],\n",
    "              [0, 3, 0, 3],\n",
    "              [1, 0, 4, 4]])\n",
    "\n",
    "print(nums)\n",
    "n = 2\n",
    "print(\"\\nElements of the said array greater than\",n)\n",
    "print(nums[nums > n])\n",
    "n = 3\n",
    "print(\"\\nElements of the said array less than\",n)\n",
    "print(nums[nums < n])"
   ]
  },
  {
   "cell_type": "code",
   "execution_count": 23,
   "metadata": {},
   "outputs": [
    {
     "name": "stdout",
     "output_type": "stream",
     "text": [
      "[[False False False False]\n",
      " [False False False False]\n",
      " [False False False False]]\n"
     ]
    }
   ],
   "source": [
    "#7\n",
    "m = np.array([[1,1,0,2],[0,3,0,3],[1,0,4,4]])\n",
    "\n",
    "print(np.isnan(m))"
   ]
  },
  {
   "cell_type": "markdown",
   "metadata": {},
   "source": [
    "# session 3 & 4"
   ]
  },
  {
   "cell_type": "code",
   "execution_count": 31,
   "metadata": {},
   "outputs": [
    {
     "name": "stdout",
     "output_type": "stream",
     "text": [
      "[[ 1.         -0.33333333]\n",
      " [ 0.          0.33333333]]\n"
     ]
    }
   ],
   "source": [
    "#1\n",
    "m = np.array([[1,1],[0,3]])\n",
    "N = 2\n",
    "def det(m):\n",
    "    return m[0][0]*m[1][1] - m[1][0]*m[0][1]\n",
    "\n",
    "def diagonal(array):\n",
    "    i = 0\n",
    "    j = N\n",
    "    while (i < j) :\n",
    "  \n",
    "        array[i][i], array[j - 1][j - 1] = array[j-1][j-1], array[i][i]\n",
    "  \n",
    "        array[i][j - 1], array[j - 1][i] = -array[i][j - 1], -array[j - 1][i]\n",
    "  \n",
    "        i += 1\n",
    "        j -= 1\n",
    "        \n",
    "        return array\n",
    "    \n",
    "def inverse_1(m):\n",
    "    m_det = det(m)\n",
    "    m_diag = diagonal(m)\n",
    "    m_inv = m_diag/m_det\n",
    "    return m_inv\n",
    "\n",
    "# print(det(m))\n",
    "# print(diagonal(m))\n",
    "print(inverse_1(m))\n"
   ]
  },
  {
   "cell_type": "code",
   "execution_count": 62,
   "metadata": {},
   "outputs": [
    {
     "name": "stdout",
     "output_type": "stream",
     "text": [
      "[[ 4.  0. -1.]\n",
      " [ 1.  2.  0.]\n",
      " [-2.  1.  4.]]\n"
     ]
    }
   ],
   "source": [
    "#2 12 -3 -6 => 3\n",
    "\n",
    "def det_2(m):\n",
    "    return m[0][0]*m[1][1] - m[1][0]*m[0][1]\n",
    "\n",
    "\n",
    "mat = np.array([[1, 1, 2],\n",
    "              [0, 3, 3],\n",
    "              [1, 0, 4]])\n",
    "N = 3\n",
    "\n",
    "def determinantOfMatrix(m):\n",
    "    summ = (m[0][0]*(m[1][1]*m[2][2] - m[2][1]*m[1][2])) + (m[0][1]*(m[1][0]*m[2][2] - m[2][0]*m[1][2])) + (m[0][2]*(m[1][0]*m[2][1] - m[2][0]*m[1][1]))\n",
    "    return summ\n",
    "    \n",
    "    \n",
    "    \n",
    "def isInvertible(m):\n",
    "    if (determinantOfMatrix(m) != 0):\n",
    "        return determinantOfMatrix(m)\n",
    "    else:\n",
    "        return False\n",
    "\n",
    "    \n",
    "def transpose(A):\n",
    "    B = [[0,0,0],[0,0,0],[0,0,0]]\n",
    "    for i in range(N):\n",
    "        for j in range(N):\n",
    "            B[i][j] = A[j][i]\n",
    "    return B\n",
    "\n",
    "#that was bad solution but it just for 3 X 3 so that more accurat\n",
    "def getMatrixMinor(m):\n",
    "    M = []\n",
    "#     s=m[0][0]*(m[1][1]*m[2][2] - m[2][1]*m[1][2])\n",
    "    M.append(m[0][0]*(m[1][1]*m[2][2] - m[2][1]*m[1][2]))\n",
    "    M.append(m[0][1]*(m[1][0]*m[2][2] - m[2][0]*m[1][2]))\n",
    "    M.append(m[0][2]*(m[1][0]*m[2][1] - m[2][0]*m[1][1]))\n",
    "    M.append(m[1][0]*(m[0][1]*m[2][2] - m[2][1]*m[0][2]))\n",
    "    M.append(m[1][1]*(m[0][0]*m[2][2] - m[2][0]*m[0][2]))\n",
    "    M.append(m[1][2]*(m[0][0]*m[2][1] - m[2][0]*m[0][1]))\n",
    "    M.append(m[2][0]*(m[0][1]*m[1][2] - m[1][1]*m[0][2]))\n",
    "    M.append(m[2][1]*(m[0][0]*m[1][2] - m[1][0]*m[0][2]))\n",
    "    M.append(m[2][2]*(m[0][0]*m[1][1] - m[1][0]*m[0][1]))\n",
    "    \n",
    "    return np.array(M).reshape(N,N)\n",
    "\n",
    "#we can for loop but that more accurat\n",
    "def cofactor(m):\n",
    "    C = m\n",
    "    C[1][0] *= -1\n",
    "    C[0][1] *= -1\n",
    "    C[1][2] *= -1\n",
    "    C[2][1] *= -1\n",
    "    return C\n",
    "    \n",
    "    \n",
    "def inverse_2(m):\n",
    "    det =  isInvertible(m)\n",
    "    if det == False:\n",
    "        return 'it no invertible'\n",
    "    M = getMatrixMinor(m)\n",
    "    C = cofactor(M)\n",
    "    C_T = transpose(C) # Adjoint \n",
    "    \n",
    "    return C_T/det\n",
    "    \n",
    "    \n",
    "print(inverse_2(mat))\n",
    "# print(determinantOfMatrix(mat))\n",
    "# print(getMatrixMinor(mat))\n",
    "# print(isInvertible(mat))"
   ]
  },
  {
   "cell_type": "code",
   "execution_count": null,
   "metadata": {},
   "outputs": [],
   "source": []
  },
  {
   "cell_type": "code",
   "execution_count": null,
   "metadata": {},
   "outputs": [],
   "source": []
  },
  {
   "cell_type": "code",
   "execution_count": null,
   "metadata": {},
   "outputs": [],
   "source": []
  },
  {
   "cell_type": "code",
   "execution_count": null,
   "metadata": {},
   "outputs": [],
   "source": []
  },
  {
   "cell_type": "code",
   "execution_count": null,
   "metadata": {},
   "outputs": [],
   "source": []
  },
  {
   "cell_type": "code",
   "execution_count": null,
   "metadata": {},
   "outputs": [],
   "source": []
  },
  {
   "cell_type": "code",
   "execution_count": null,
   "metadata": {},
   "outputs": [],
   "source": []
  },
  {
   "cell_type": "code",
   "execution_count": null,
   "metadata": {},
   "outputs": [],
   "source": [
    "def getMatrixMinor(m,i,j):\n",
    "    l = []\n",
    "    last_l=[]\n",
    "    for d in range(N-1):\n",
    "        if d == i:\n",
    "            continue\n",
    "        for k in range(N-1):\n",
    "            if k == j:\n",
    "                continue\n",
    "            l.append(m[d][k])\n",
    "            print(l)\n",
    "    print(l)\n",
    "    last_l.append(m[i][j] * det_2(np.array(l).reshape(N-1,N-1)))\n",
    "    l=[]\n",
    "    return last_l"
   ]
  },
  {
   "cell_type": "code",
   "execution_count": 56,
   "metadata": {},
   "outputs": [
    {
     "ename": "AttributeError",
     "evalue": "'numpy.ndarray' object has no attribute 'append'",
     "output_type": "error",
     "traceback": [
      "\u001b[1;31m---------------------------------------------------------------------------\u001b[0m",
      "\u001b[1;31mAttributeError\u001b[0m                            Traceback (most recent call last)",
      "\u001b[1;32m<ipython-input-56-283702f18249>\u001b[0m in \u001b[0;36m<module>\u001b[1;34m\u001b[0m\n\u001b[0;32m     11\u001b[0m     \u001b[1;32mreturn\u001b[0m \u001b[0ml\u001b[0m\u001b[1;33m\u001b[0m\u001b[1;33m\u001b[0m\u001b[0m\n\u001b[0;32m     12\u001b[0m \u001b[1;33m\u001b[0m\u001b[0m\n\u001b[1;32m---> 13\u001b[1;33m \u001b[0mprint\u001b[0m\u001b[1;33m(\u001b[0m\u001b[0mgetMatrixMinor\u001b[0m\u001b[1;33m(\u001b[0m\u001b[0mmat\u001b[0m\u001b[1;33m,\u001b[0m\u001b[1;36m1\u001b[0m\u001b[1;33m,\u001b[0m\u001b[1;36m1\u001b[0m\u001b[1;33m)\u001b[0m\u001b[1;33m)\u001b[0m\u001b[1;33m\u001b[0m\u001b[1;33m\u001b[0m\u001b[0m\n\u001b[0m",
      "\u001b[1;32m<ipython-input-56-283702f18249>\u001b[0m in \u001b[0;36mgetMatrixMinor\u001b[1;34m(m, i, j)\u001b[0m\n\u001b[0;32m      7\u001b[0m \u001b[1;31m#     print(m[:i])\u001b[0m\u001b[1;33m\u001b[0m\u001b[1;33m\u001b[0m\u001b[1;33m\u001b[0m\u001b[0m\n\u001b[0;32m      8\u001b[0m \u001b[1;31m#     print(m[:i]+m[i+1:])\u001b[0m\u001b[1;33m\u001b[0m\u001b[1;33m\u001b[0m\u001b[1;33m\u001b[0m\u001b[0m\n\u001b[1;32m----> 9\u001b[1;33m     \u001b[0ml\u001b[0m\u001b[1;33m.\u001b[0m\u001b[0mappend\u001b[0m\u001b[1;33m(\u001b[0m\u001b[0mm\u001b[0m\u001b[1;33m[\u001b[0m\u001b[0mi\u001b[0m\u001b[1;33m+\u001b[0m\u001b[1;36m1\u001b[0m\u001b[1;33m:\u001b[0m\u001b[1;33m]\u001b[0m\u001b[1;33m)\u001b[0m\u001b[1;33m\u001b[0m\u001b[1;33m\u001b[0m\u001b[0m\n\u001b[0m\u001b[0;32m     10\u001b[0m \u001b[1;33m\u001b[0m\u001b[0m\n\u001b[0;32m     11\u001b[0m     \u001b[1;32mreturn\u001b[0m \u001b[0ml\u001b[0m\u001b[1;33m\u001b[0m\u001b[1;33m\u001b[0m\u001b[0m\n",
      "\u001b[1;31mAttributeError\u001b[0m: 'numpy.ndarray' object has no attribute 'append'"
     ]
    }
   ],
   "source": [
    "mat = np.array([[1, 1, 2],\n",
    "              [0, 3, 3],\n",
    "              [1, 0, 4]])\n",
    "\n",
    "def getMatrixMinor(m,i,j):\n",
    "    l=m[:i]\n",
    "#     print(m[:i])\n",
    "#     print(m[:i]+m[i+1:])\n",
    "    l.append(m[i+1:])\n",
    "    \n",
    "    return l\n",
    "\n",
    "print(getMatrixMinor(mat,1,1))"
   ]
  },
  {
   "cell_type": "code",
   "execution_count": null,
   "metadata": {},
   "outputs": [],
   "source": [
    "def reverseDiagonal(array):\n",
    " \n",
    "    i = 0\n",
    "    j = N\n",
    "    while (i < j) :\n",
    "  \n",
    "        # For reversing elements of major\n",
    "        # diagonal.\n",
    "        array[i][i], array[j - 1][j - 1] = array[j-1][j-1], array[i][i]\n",
    "  \n",
    "        # For reversing elements of minor\n",
    "        # diagonal.\n",
    "        array[i][j - 1], array[j - 1][i] = array[j-1][i], array[i][j-1]\n",
    "  \n",
    "        i += 1\n",
    "        j -= 1\n",
    "  \n",
    "    # Print matrix after reversals.\n",
    "    for i in range(N):\n",
    "        for j in range( N):\n",
    "            print( array[i][j],end=\"  \")\n",
    "        print()\n",
    "  "
   ]
  },
  {
   "cell_type": "code",
   "execution_count": null,
   "metadata": {},
   "outputs": [],
   "source": [
    "https://stackoverflow.com/questions/53934405/find-minor-matrix-in-python"
   ]
  }
 ],
 "metadata": {
  "kernelspec": {
   "display_name": "Python 3",
   "language": "python",
   "name": "python3"
  },
  "language_info": {
   "codemirror_mode": {
    "name": "ipython",
    "version": 3
   },
   "file_extension": ".py",
   "mimetype": "text/x-python",
   "name": "python",
   "nbconvert_exporter": "python",
   "pygments_lexer": "ipython3",
   "version": "3.7.4"
  }
 },
 "nbformat": 4,
 "nbformat_minor": 2
}
