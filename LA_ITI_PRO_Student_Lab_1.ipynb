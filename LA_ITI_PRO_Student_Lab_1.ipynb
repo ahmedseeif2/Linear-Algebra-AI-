{
 "cells": [
  {
   "cell_type": "markdown",
   "metadata": {},
   "source": [
    "# LAB 1: Matrix and Vector Computations in python\n",
    "\n",
    "In this lab you will use python to study the following topics:\n",
    "\n",
    "- How to create matrices and vectors in python.\n",
    "\n",
    "- How to manipulate matrices in python and create matrices of special types.\n",
    "\n",
    "- How to add matrices and multiply a vector by a matrix by python.\n",
    "\n",
    "- Apply linear transformation.\n"
   ]
  },
  {
   "cell_type": "markdown",
   "metadata": {},
   "source": [
    "# First: you should run this cell"
   ]
  },
  {
   "cell_type": "code",
   "execution_count": 1,
   "metadata": {},
   "outputs": [],
   "source": [
    "# Make all numpy available via shorter 'np' prefix\n",
    "import numpy as np\n",
    "\n",
    "import matplotlib.pyplot as plt"
   ]
  },
  {
   "cell_type": "markdown",
   "metadata": {},
   "source": [
    "# Question 1 :Declaring scalars, vectors, and matrices\n",
    "\n",
    "a) Use [numpy.array](https://numpy.org/doc/stable/reference/generated/numpy.array.html) to declare the following:\n",
    "\n",
    "1. A scalar $s = 5$\n",
    "2. A vector $v = \\begin{bmatrix} 5  \\\\ -2 \\\\ 4  \\\\ \\end{bmatrix}$\n",
    "3. A matrix $A = \\begin{bmatrix} 1 & 2 & 3  \\\\ 4 & 5 & 6 \\\\ 7 & 8 & 9  \\\\ \\end{bmatrix}$\n",
    "4. A matrix $B = \\begin{bmatrix} 1 & 2 & 3  \\\\ 4 & 5 & 6 \\\\ \\end{bmatrix}$\n",
    "5. A matrix $C = \\begin{bmatrix} 1 & 2   \\\\ 3 & 4  \\\\ 5 & 6   \\\\ \\end{bmatrix}$"
   ]
  },
  {
   "cell_type": "code",
   "execution_count": 17,
   "metadata": {},
   "outputs": [],
   "source": [
    "#type your code here:\n",
    "s =  np.array(5)\n",
    "\n",
    "v = np.array([[ 5], [-2], [ 4]])\n",
    "\n",
    "A = np.array([[1, 2, 3], [4 ,5, 6], [7 ,8, 9]])\n",
    "\n",
    "B =np.array( [[1 ,2 ,3], [4 ,5 ,6],])\n",
    "\n",
    "C =np.array( [[1, 2], [3 ,4,], [5 ,6]])\n"
   ]
  },
  {
   "cell_type": "code",
   "execution_count": 18,
   "metadata": {},
   "outputs": [
    {
     "name": "stdout",
     "output_type": "stream",
     "text": [
      "s 5 \n",
      "v [[ 5]\n",
      " [-2]\n",
      " [ 4]] \n",
      "A [[1 2 3]\n",
      " [4 5 6]\n",
      " [7 8 9]] \n",
      "B [[1 2 3]\n",
      " [4 5 6]] \n",
      "C [[1 2]\n",
      " [3 4]\n",
      " [5 6]]\n"
     ]
    }
   ],
   "source": [
    "print('s',s,'\\nv',v,'\\nA',A,'\\nB',B,'\\nC',C)"
   ]
  },
  {
   "cell_type": "markdown",
   "metadata": {},
   "source": [
    "b) Print the data type of $s, v,$ and $A$ using `type` command in python."
   ]
  },
  {
   "cell_type": "code",
   "execution_count": 3,
   "metadata": {},
   "outputs": [
    {
     "name": "stdout",
     "output_type": "stream",
     "text": [
      "type(s) = <class 'numpy.ndarray'>\n",
      "\n",
      "type(v) = <class 'numpy.ndarray'>\n",
      "\n",
      "type(A) = <class 'numpy.ndarray'>\n",
      "\n"
     ]
    }
   ],
   "source": [
    "#type your code here:\n"
   ]
  },
  {
   "cell_type": "code",
   "execution_count": 19,
   "metadata": {},
   "outputs": [
    {
     "data": {
      "text/plain": [
       "numpy.ndarray"
      ]
     },
     "execution_count": 19,
     "metadata": {},
     "output_type": "execute_result"
    }
   ],
   "source": [
    "type(s)"
   ]
  },
  {
   "cell_type": "code",
   "execution_count": 20,
   "metadata": {},
   "outputs": [
    {
     "data": {
      "text/plain": [
       "numpy.ndarray"
      ]
     },
     "execution_count": 20,
     "metadata": {},
     "output_type": "execute_result"
    }
   ],
   "source": [
    "type(v)"
   ]
  },
  {
   "cell_type": "code",
   "execution_count": 21,
   "metadata": {},
   "outputs": [
    {
     "data": {
      "text/plain": [
       "numpy.ndarray"
      ]
     },
     "execution_count": 21,
     "metadata": {},
     "output_type": "execute_result"
    }
   ],
   "source": [
    "\n",
    "type(A)"
   ]
  },
  {
   "cell_type": "markdown",
   "metadata": {},
   "source": [
    "c) Using [numpy.shape](https://numpy.org/devdocs/reference/generated/numpy.shape.html) or `A.shape` print the shape of $s, v, A, B,$ and $C$."
   ]
  },
  {
   "cell_type": "code",
   "execution_count": 4,
   "metadata": {},
   "outputs": [
    {
     "name": "stdout",
     "output_type": "stream",
     "text": [
      "s.shape = ()\n",
      "\n",
      "v.shape = (3, 1)\n",
      "\n",
      "A.shape = (3, 3)\n",
      "\n",
      "B.shape = (2, 3)\n",
      "\n",
      "C.shape = (3, 2)\n",
      "\n"
     ]
    }
   ],
   "source": [
    "#type your code here:\n"
   ]
  },
  {
   "cell_type": "code",
   "execution_count": 24,
   "metadata": {},
   "outputs": [
    {
     "data": {
      "text/plain": [
       "()"
      ]
     },
     "execution_count": 24,
     "metadata": {},
     "output_type": "execute_result"
    }
   ],
   "source": [
    "s.shape"
   ]
  },
  {
   "cell_type": "code",
   "execution_count": 25,
   "metadata": {},
   "outputs": [
    {
     "data": {
      "text/plain": [
       "(3, 1)"
      ]
     },
     "execution_count": 25,
     "metadata": {},
     "output_type": "execute_result"
    }
   ],
   "source": [
    "v.shape"
   ]
  },
  {
   "cell_type": "code",
   "execution_count": 26,
   "metadata": {},
   "outputs": [
    {
     "data": {
      "text/plain": [
       "(3, 3)"
      ]
     },
     "execution_count": 26,
     "metadata": {},
     "output_type": "execute_result"
    }
   ],
   "source": [
    "A.shape"
   ]
  },
  {
   "cell_type": "code",
   "execution_count": 27,
   "metadata": {},
   "outputs": [
    {
     "data": {
      "text/plain": [
       "(2, 3)"
      ]
     },
     "execution_count": 27,
     "metadata": {},
     "output_type": "execute_result"
    }
   ],
   "source": [
    "B.shape"
   ]
  },
  {
   "cell_type": "code",
   "execution_count": 28,
   "metadata": {},
   "outputs": [
    {
     "data": {
      "text/plain": [
       "(3, 2)"
      ]
     },
     "execution_count": 28,
     "metadata": {},
     "output_type": "execute_result"
    }
   ],
   "source": [
    "C.shape"
   ]
  },
  {
   "cell_type": "markdown",
   "metadata": {},
   "source": [
    "d) To access a given entry in the `numpy array` put the `row number - 1` and `column number - 1` in square brackets following the array name. Ex `a32 = A[2, 1]`.\n",
    "- Print the value of the third row and the second column of the matrix $A$.\n",
    "- Change it to $10$.\n",
    "- Print the matrix A to check the entry is changed."
   ]
  },
  {
   "cell_type": "code",
   "execution_count": 5,
   "metadata": {},
   "outputs": [
    {
     "name": "stdout",
     "output_type": "stream",
     "text": [
      "A[2, 1] =  8\n",
      "\n",
      "A =\n",
      " [[ 1  2  3]\n",
      " [ 4  5  6]\n",
      " [ 7 10  9]]\n",
      "\n"
     ]
    }
   ],
   "source": [
    "#type your code here:\n"
   ]
  },
  {
   "cell_type": "code",
   "execution_count": 30,
   "metadata": {},
   "outputs": [
    {
     "data": {
      "text/plain": [
       "8"
      ]
     },
     "execution_count": 30,
     "metadata": {},
     "output_type": "execute_result"
    }
   ],
   "source": [
    "A[2, 1]"
   ]
  },
  {
   "cell_type": "code",
   "execution_count": 31,
   "metadata": {},
   "outputs": [],
   "source": [
    "A[2, 1] = 10"
   ]
  },
  {
   "cell_type": "code",
   "execution_count": 32,
   "metadata": {},
   "outputs": [
    {
     "data": {
      "text/plain": [
       "array([[ 1,  2,  3],\n",
       "       [ 4,  5,  6],\n",
       "       [ 7, 10,  9]])"
      ]
     },
     "execution_count": 32,
     "metadata": {},
     "output_type": "execute_result"
    }
   ],
   "source": [
    "A"
   ]
  },
  {
   "cell_type": "markdown",
   "metadata": {},
   "source": [
    "e)To access a whole row or column of a matrix, use the colon operator. For example, `A[:, [1]]` is the second column of A, while `B[[1], :]` is the second row of B."
   ]
  },
  {
   "cell_type": "code",
   "execution_count": 6,
   "metadata": {},
   "outputs": [
    {
     "name": "stdout",
     "output_type": "stream",
     "text": [
      "A[:, [1]] =\n",
      " [[ 2]\n",
      " [ 5]\n",
      " [10]]\n",
      "\n",
      "B[[1], :] =\n",
      " [[4 5 6]]\n",
      "\n"
     ]
    }
   ],
   "source": [
    "#type your code here:\n"
   ]
  },
  {
   "cell_type": "code",
   "execution_count": 33,
   "metadata": {
    "scrolled": true
   },
   "outputs": [
    {
     "data": {
      "text/plain": [
       "array([[ 2],\n",
       "       [ 5],\n",
       "       [10]])"
      ]
     },
     "execution_count": 33,
     "metadata": {},
     "output_type": "execute_result"
    }
   ],
   "source": [
    "A[:, [1]]"
   ]
  },
  {
   "cell_type": "code",
   "execution_count": 34,
   "metadata": {},
   "outputs": [
    {
     "data": {
      "text/plain": [
       "array([[4, 5, 6]])"
      ]
     },
     "execution_count": 34,
     "metadata": {},
     "output_type": "execute_result"
    }
   ],
   "source": [
    "B[[1], :]"
   ]
  },
  {
   "cell_type": "markdown",
   "metadata": {},
   "source": [
    "f) Type each of the following commands that generate special matrices:\n",
    "- `np.eye(4), np.zeros(3), np.zeros((3, 1)), np.zeros((3, 5)), np.ones((2, 3)), and np.diag([4, 5, 6, 7])`"
   ]
  },
  {
   "cell_type": "code",
   "execution_count": 2,
   "metadata": {},
   "outputs": [
    {
     "name": "stdout",
     "output_type": "stream",
     "text": [
      "np.eye(4) =\n",
      " [[1. 0. 0. 0.]\n",
      " [0. 1. 0. 0.]\n",
      " [0. 0. 1. 0.]\n",
      " [0. 0. 0. 1.]]\n",
      "\n",
      "np.zeros(3) =\n",
      " [0. 0. 0.]\n",
      "\n",
      "np.zeros((3, 1)) =\n",
      " [[0.]\n",
      " [0.]\n",
      " [0.]]\n",
      "\n",
      "np.zeros((3, 5)) =\n",
      " [[0. 0. 0. 0. 0.]\n",
      " [0. 0. 0. 0. 0.]\n",
      " [0. 0. 0. 0. 0.]]\n",
      "\n",
      "np.ones((2, 3)) =\n",
      " [[1. 1. 1.]\n",
      " [1. 1. 1.]]\n",
      "\n",
      "np.diag([4 5 6 7]) =\n",
      " [[4 0 0 0]\n",
      " [0 5 0 0]\n",
      " [0 0 6 0]\n",
      " [0 0 0 7]]\n"
     ]
    }
   ],
   "source": [
    "#type your code here:\n"
   ]
  },
  {
   "cell_type": "code",
   "execution_count": 35,
   "metadata": {
    "scrolled": true
   },
   "outputs": [
    {
     "data": {
      "text/plain": [
       "array([[1., 0., 0., 0.],\n",
       "       [0., 1., 0., 0.],\n",
       "       [0., 0., 1., 0.],\n",
       "       [0., 0., 0., 1.]])"
      ]
     },
     "execution_count": 35,
     "metadata": {},
     "output_type": "execute_result"
    }
   ],
   "source": [
    "np.eye(4)"
   ]
  },
  {
   "cell_type": "code",
   "execution_count": 36,
   "metadata": {},
   "outputs": [
    {
     "data": {
      "text/plain": [
       "array([0., 0., 0.])"
      ]
     },
     "execution_count": 36,
     "metadata": {},
     "output_type": "execute_result"
    }
   ],
   "source": [
    "np.zeros(3)"
   ]
  },
  {
   "cell_type": "code",
   "execution_count": 37,
   "metadata": {},
   "outputs": [
    {
     "data": {
      "text/plain": [
       "array([[0., 0., 0., 0., 0.],\n",
       "       [0., 0., 0., 0., 0.],\n",
       "       [0., 0., 0., 0., 0.]])"
      ]
     },
     "execution_count": 37,
     "metadata": {},
     "output_type": "execute_result"
    }
   ],
   "source": [
    "np.zeros((3, 5))"
   ]
  },
  {
   "cell_type": "code",
   "execution_count": 38,
   "metadata": {},
   "outputs": [
    {
     "data": {
      "text/plain": [
       "array([[1., 1., 1.],\n",
       "       [1., 1., 1.]])"
      ]
     },
     "execution_count": 38,
     "metadata": {},
     "output_type": "execute_result"
    }
   ],
   "source": [
    "np.ones((2, 3))"
   ]
  },
  {
   "cell_type": "code",
   "execution_count": 40,
   "metadata": {},
   "outputs": [
    {
     "data": {
      "text/plain": [
       "array([[4, 0, 0, 0],\n",
       "       [0, 5, 0, 0],\n",
       "       [0, 0, 6, 0],\n",
       "       [0, 0, 0, 7]])"
      ]
     },
     "execution_count": 40,
     "metadata": {},
     "output_type": "execute_result"
    }
   ],
   "source": [
    "np.diag([4 ,5 ,6 ,7])"
   ]
  },
  {
   "cell_type": "markdown",
   "metadata": {},
   "source": [
    "# Question 2. Vectors Addition, Scaling, and dot product"
   ]
  },
  {
   "cell_type": "markdown",
   "metadata": {},
   "source": [
    "a) Declare vectors $v1 = \\begin{bmatrix} 1  \\\\ 2 \\\\ 7  \\\\ 4 \\\\ \\end{bmatrix}$ and $v2 = \\begin{bmatrix} 4  \\\\ 3 \\\\ 6  \\\\ 8 \\\\ \\end{bmatrix}$\n",
    "\n",
    "- Addition: $v1 + v2$\n",
    "- Subtraction: $v1 - v2$\n",
    "- Scaling by a number: $3 * v1$\n",
    "- Scaling by a number: $v1 / 2$"
   ]
  },
  {
   "cell_type": "code",
   "execution_count": 8,
   "metadata": {},
   "outputs": [
    {
     "name": "stdout",
     "output_type": "stream",
     "text": [
      "v1 =\n",
      " [[1]\n",
      " [2]\n",
      " [7]\n",
      " [4]]\n",
      "\n",
      "v2 =\n",
      " [[4]\n",
      " [3]\n",
      " [6]\n",
      " [8]]\n",
      "\n",
      "v1 + v2 =\n",
      " [[ 5]\n",
      " [ 5]\n",
      " [13]\n",
      " [12]]\n",
      "\n",
      "v1 - v2 =\n",
      " [[-3]\n",
      " [-1]\n",
      " [ 1]\n",
      " [-4]]\n",
      "\n",
      "3*v1 =\n",
      " [[ 3]\n",
      " [ 6]\n",
      " [21]\n",
      " [12]]\n",
      "\n",
      "v1/2 =\n",
      " [[0.5]\n",
      " [1. ]\n",
      " [3.5]\n",
      " [2. ]]\n",
      "\n"
     ]
    }
   ],
   "source": [
    "#type your code here:\n"
   ]
  },
  {
   "cell_type": "code",
   "execution_count": 50,
   "metadata": {},
   "outputs": [],
   "source": [
    "v1 = np.array([[1], [2], [7], [4]])\n",
    "v2 = np.array([[4], [3], [6], [8]])"
   ]
  },
  {
   "cell_type": "code",
   "execution_count": 57,
   "metadata": {},
   "outputs": [
    {
     "data": {
      "text/plain": [
       "array([[1],\n",
       "       [2],\n",
       "       [7],\n",
       "       [4]])"
      ]
     },
     "execution_count": 57,
     "metadata": {},
     "output_type": "execute_result"
    }
   ],
   "source": [
    "v1"
   ]
  },
  {
   "cell_type": "code",
   "execution_count": 58,
   "metadata": {},
   "outputs": [
    {
     "data": {
      "text/plain": [
       "array([[4],\n",
       "       [3],\n",
       "       [6],\n",
       "       [8]])"
      ]
     },
     "execution_count": 58,
     "metadata": {},
     "output_type": "execute_result"
    }
   ],
   "source": [
    "v2"
   ]
  },
  {
   "cell_type": "code",
   "execution_count": 51,
   "metadata": {},
   "outputs": [
    {
     "data": {
      "text/plain": [
       "array([[ 5],\n",
       "       [ 5],\n",
       "       [13],\n",
       "       [12]])"
      ]
     },
     "execution_count": 51,
     "metadata": {},
     "output_type": "execute_result"
    }
   ],
   "source": [
    "v1 + v2"
   ]
  },
  {
   "cell_type": "code",
   "execution_count": 52,
   "metadata": {},
   "outputs": [
    {
     "data": {
      "text/plain": [
       "array([[-3],\n",
       "       [-1],\n",
       "       [ 1],\n",
       "       [-4]])"
      ]
     },
     "execution_count": 52,
     "metadata": {},
     "output_type": "execute_result"
    }
   ],
   "source": [
    "v1 - v2"
   ]
  },
  {
   "cell_type": "code",
   "execution_count": 53,
   "metadata": {},
   "outputs": [
    {
     "data": {
      "text/plain": [
       "array([[ 3],\n",
       "       [ 6],\n",
       "       [21],\n",
       "       [12]])"
      ]
     },
     "execution_count": 53,
     "metadata": {},
     "output_type": "execute_result"
    }
   ],
   "source": [
    "3*v1"
   ]
  },
  {
   "cell_type": "code",
   "execution_count": 54,
   "metadata": {},
   "outputs": [
    {
     "data": {
      "text/plain": [
       "array([[0.5],\n",
       "       [1. ],\n",
       "       [3.5],\n",
       "       [2. ]])"
      ]
     },
     "execution_count": 54,
     "metadata": {},
     "output_type": "execute_result"
    }
   ],
   "source": [
    "v1/2"
   ]
  },
  {
   "cell_type": "markdown",
   "metadata": {},
   "source": [
    "b) Find the dot product between the two vectors $v1$ and $v2$ using the following:\n",
    "\n",
    "- [numpy.dot](https://numpy.org/doc/stable/reference/generated/numpy.dot.html)\n",
    "- [numpy.matmul](https://numpy.org/doc/stable/reference/generated/numpy.matmul.html#numpy.matmul)\n",
    "- `v1.T @ v2`"
   ]
  },
  {
   "cell_type": "code",
   "execution_count": 55,
   "metadata": {},
   "outputs": [],
   "source": [
    "#type your code here:\n"
   ]
  },
  {
   "cell_type": "code",
   "execution_count": 61,
   "metadata": {},
   "outputs": [
    {
     "data": {
      "text/plain": [
       "array([[84]])"
      ]
     },
     "execution_count": 61,
     "metadata": {},
     "output_type": "execute_result"
    }
   ],
   "source": [
    "np.dot(v1.T,v2)"
   ]
  },
  {
   "cell_type": "code",
   "execution_count": 66,
   "metadata": {},
   "outputs": [
    {
     "data": {
      "text/plain": [
       "array([[84]])"
      ]
     },
     "execution_count": 66,
     "metadata": {},
     "output_type": "execute_result"
    }
   ],
   "source": [
    "np.matmul(v1.T,v2)"
   ]
  },
  {
   "cell_type": "code",
   "execution_count": 67,
   "metadata": {},
   "outputs": [
    {
     "data": {
      "text/plain": [
       "array([[84]])"
      ]
     },
     "execution_count": 67,
     "metadata": {},
     "output_type": "execute_result"
    }
   ],
   "source": [
    "v1.T @ v2"
   ]
  },
  {
   "cell_type": "markdown",
   "metadata": {},
   "source": [
    "c) Find the length of the vectors $v1$ and $v2$.\n",
    "- Using [numpy.linalg.norm](https://numpy.org/doc/stable/reference/generated/numpy.linalg.norm.html)\n",
    "- Using the dot product and [numpy.sqrt](https://numpy.org/doc/stable/reference/generated/numpy.sqrt.html)\n"
   ]
  },
  {
   "cell_type": "code",
   "execution_count": 10,
   "metadata": {},
   "outputs": [
    {
     "name": "stdout",
     "output_type": "stream",
     "text": [
      "length of v1 Using numpy.linalg.norm =\n",
      " 8.366600265340756\n",
      "\n",
      "length of v2 Using numpy.linalg.norm =\n",
      " 11.180339887498949\n",
      "\n",
      "length of v1 Using the dot product and numpy.sqrt =\n",
      " [[8.36660027]]\n",
      "\n",
      "length of v2 Using the dot product and numpy.sqrt =\n",
      " [[11.18033989]]\n",
      "\n"
     ]
    }
   ],
   "source": [
    "#type your code here:\n"
   ]
  },
  {
   "cell_type": "code",
   "execution_count": 73,
   "metadata": {},
   "outputs": [
    {
     "name": "stdout",
     "output_type": "stream",
     "text": [
      "length of v1 Using numpy.linalg.norm = \n",
      "8.366600265340756\n",
      "length of v2 Using numpy.linalg.norm =\n",
      "11.180339887498949\n",
      "length of v1 Using the dot product and numpy.sqrt =\n",
      "[[8.36660027]]\n",
      "length of v2 Using the dot product and numpy.sqrt =\n",
      "[[11.18033989]]\n"
     ]
    }
   ],
   "source": [
    "print(f'length of v1 Using numpy.linalg.norm = ')\n",
    "print(np.linalg.norm(v1))\n",
    "print('length of v2 Using numpy.linalg.norm =')\n",
    "print(np.linalg.norm(v2))\n",
    "print('length of v1 Using the dot product and numpy.sqrt =')\n",
    "print(np.sqrt(np.dot(v1.T,v1)))\n",
    "print('length of v2 Using the dot product and numpy.sqrt =')\n",
    "print(np.sqrt(np.dot(v2.T,v2)))"
   ]
  },
  {
   "cell_type": "markdown",
   "metadata": {},
   "source": [
    "d) Show that the vectors $u = \\begin{bmatrix} 3  \\\\ 2 \\\\ -1  \\\\ 4 \\\\ \\end{bmatrix}$ and $v = \\begin{bmatrix} 1  \\\\ -1 \\\\ 1  \\\\ 0 \\\\ \\end{bmatrix}$ are orthogonal.\n"
   ]
  },
  {
   "cell_type": "code",
   "execution_count": 11,
   "metadata": {},
   "outputs": [
    {
     "name": "stdout",
     "output_type": "stream",
     "text": [
      "u.T @ v =\n",
      " [[0]]\n",
      "\n"
     ]
    }
   ],
   "source": [
    "#type your code here:\n"
   ]
  },
  {
   "cell_type": "code",
   "execution_count": 76,
   "metadata": {},
   "outputs": [],
   "source": [
    "u = np.array([[3], [2], [-1], [4]])\n",
    "v = np.array([[1], [-1], [1], [0]])"
   ]
  },
  {
   "cell_type": "code",
   "execution_count": 77,
   "metadata": {},
   "outputs": [
    {
     "data": {
      "text/plain": [
       "array([[0]])"
      ]
     },
     "execution_count": 77,
     "metadata": {},
     "output_type": "execute_result"
    }
   ],
   "source": [
    "u.T @ v"
   ]
  },
  {
   "cell_type": "markdown",
   "metadata": {},
   "source": [
    "# Question 3. Matrix Addition and Matrix-Vector Multiplication\n",
    "\n",
    "Declare vectors $u$ and $v$ and matrices $A$ and $B$ as following:\n",
    "- $u = \\begin{bmatrix} 2  \\\\ 7 \\\\ 2 \\\\ \\end{bmatrix}$, $v = \\begin{bmatrix} 8  \\\\ 2 \\\\ 4 \\\\ \\end{bmatrix}$\n",
    "- $A = \\begin{bmatrix} 7 & 3 & 5  \\\\ 4 & 6 & 2 \\\\ \\end{bmatrix}$, $B = \\begin{bmatrix} 0 & 6 & 4  \\\\ 2 & 3 & 0 \\\\ \\end{bmatrix}$\n",
    "\n",
    "a) Calculate the following using python.\n",
    "\n",
    "- $A+B$\n",
    "- $B+A$\n",
    "- $3A$\n",
    "- $6B$\n",
    "- $2(3B)$\n",
    "- $6A+15B$\n",
    "- $3(2A+5B)$"
   ]
  },
  {
   "cell_type": "code",
   "execution_count": 12,
   "metadata": {},
   "outputs": [
    {
     "name": "stdout",
     "output_type": "stream",
     "text": [
      "u =\n",
      " [[2]\n",
      " [7]\n",
      " [2]]\n",
      "\n",
      "v =\n",
      " [[8]\n",
      " [2]\n",
      " [4]]\n",
      "\n",
      "A =\n",
      " [[7 3 5]\n",
      " [4 6 2]]\n",
      "\n",
      "B =\n",
      " [[0 6 4]\n",
      " [2 3 0]]\n",
      "\n",
      "A + B =\n",
      " [[7 9 9]\n",
      " [6 9 2]]\n",
      "\n",
      "B + A =\n",
      " [[7 9 9]\n",
      " [6 9 2]]\n",
      "\n",
      "3A =\n",
      " [[21  9 15]\n",
      " [12 18  6]]\n",
      "\n",
      "6B =\n",
      " [[ 0 36 24]\n",
      " [12 18  0]]\n",
      "\n",
      "2(3B) =\n",
      " [[ 0 36 24]\n",
      " [12 18  0]]\n",
      "\n",
      "6A + 15B =\n",
      " [[ 42 108  90]\n",
      " [ 54  81  12]]\n",
      "\n",
      "3(2A + 5B) =\n",
      " [[ 42 108  90]\n",
      " [ 54  81  12]]\n",
      "\n"
     ]
    }
   ],
   "source": [
    "#type your code here:\n"
   ]
  },
  {
   "cell_type": "code",
   "execution_count": 78,
   "metadata": {},
   "outputs": [],
   "source": [
    "u =np.array( [[2] ,[7] ,[2]])\n",
    "v = np.array([[8], [2], [4]])\n",
    "A = np.array([[7, 3, 5] ,[4, 6, 2]])\n",
    "B =  np.array([[0, 6, 4], [2, 3, 0]])\n"
   ]
  },
  {
   "cell_type": "code",
   "execution_count": 79,
   "metadata": {},
   "outputs": [
    {
     "data": {
      "text/plain": [
       "array([[7, 9, 9],\n",
       "       [6, 9, 2]])"
      ]
     },
     "execution_count": 79,
     "metadata": {},
     "output_type": "execute_result"
    }
   ],
   "source": [
    "A + B"
   ]
  },
  {
   "cell_type": "code",
   "execution_count": 83,
   "metadata": {},
   "outputs": [
    {
     "data": {
      "text/plain": [
       "array([[7, 9, 9],\n",
       "       [6, 9, 2]])"
      ]
     },
     "execution_count": 83,
     "metadata": {},
     "output_type": "execute_result"
    }
   ],
   "source": [
    "B + A\n"
   ]
  },
  {
   "cell_type": "code",
   "execution_count": 88,
   "metadata": {},
   "outputs": [
    {
     "data": {
      "text/plain": [
       "array([[21,  9, 15],\n",
       "       [12, 18,  6]])"
      ]
     },
     "execution_count": 88,
     "metadata": {},
     "output_type": "execute_result"
    }
   ],
   "source": [
    "3*A"
   ]
  },
  {
   "cell_type": "code",
   "execution_count": 89,
   "metadata": {},
   "outputs": [
    {
     "data": {
      "text/plain": [
       "array([[ 0, 36, 24],\n",
       "       [12, 18,  0]])"
      ]
     },
     "execution_count": 89,
     "metadata": {},
     "output_type": "execute_result"
    }
   ],
   "source": [
    "6*B\n"
   ]
  },
  {
   "cell_type": "code",
   "execution_count": 90,
   "metadata": {},
   "outputs": [
    {
     "data": {
      "text/plain": [
       "array([[ 0, 36, 24],\n",
       "       [12, 18,  0]])"
      ]
     },
     "execution_count": 90,
     "metadata": {},
     "output_type": "execute_result"
    }
   ],
   "source": [
    "2*(3*B)\n"
   ]
  },
  {
   "cell_type": "code",
   "execution_count": 92,
   "metadata": {},
   "outputs": [
    {
     "data": {
      "text/plain": [
       "array([[ 42, 108,  90],\n",
       "       [ 54,  81,  12]])"
      ]
     },
     "execution_count": 92,
     "metadata": {},
     "output_type": "execute_result"
    }
   ],
   "source": [
    "6*A + 15*B\n"
   ]
  },
  {
   "cell_type": "code",
   "execution_count": 93,
   "metadata": {},
   "outputs": [
    {
     "data": {
      "text/plain": [
       "array([[ 42, 108,  90],\n",
       "       [ 54,  81,  12]])"
      ]
     },
     "execution_count": 93,
     "metadata": {},
     "output_type": "execute_result"
    }
   ],
   "source": [
    "3*(2*A + 5*B)"
   ]
  },
  {
   "cell_type": "markdown",
   "metadata": {},
   "source": [
    "b) To obtain the matrix-vector product $Au$ using python, type `A @ u`. Calculate the following:\n",
    "\n",
    "- $Au+Av$\n",
    "- $A(u+v)$\n",
    "- $(A+B)u$\n",
    "- $Au+Bu$\n",
    "- $A(3u)$\n",
    "- $3A(u)$"
   ]
  },
  {
   "cell_type": "code",
   "execution_count": 13,
   "metadata": {},
   "outputs": [
    {
     "name": "stdout",
     "output_type": "stream",
     "text": [
      "Au + Av =\n",
      " [[127]\n",
      " [106]]\n",
      "\n",
      "A(u + v) =\n",
      " [[127]\n",
      " [106]]\n",
      "\n",
      "(A + B)u =\n",
      " [[95]\n",
      " [79]]\n",
      "\n",
      "Au + Bu =\n",
      " [[95]\n",
      " [79]]\n",
      "\n",
      "A(3u) =\n",
      " [[135]\n",
      " [162]]\n",
      "\n",
      "3A(u) =\n",
      " [[135]\n",
      " [162]]\n",
      "\n"
     ]
    }
   ],
   "source": [
    "#type your code here:\n"
   ]
  },
  {
   "cell_type": "code",
   "execution_count": 94,
   "metadata": {},
   "outputs": [
    {
     "data": {
      "text/plain": [
       "array([[127],\n",
       "       [106]])"
      ]
     },
     "execution_count": 94,
     "metadata": {},
     "output_type": "execute_result"
    }
   ],
   "source": [
    "A@u + A@v"
   ]
  },
  {
   "cell_type": "code",
   "execution_count": 95,
   "metadata": {},
   "outputs": [
    {
     "data": {
      "text/plain": [
       "array([[127],\n",
       "       [106]])"
      ]
     },
     "execution_count": 95,
     "metadata": {},
     "output_type": "execute_result"
    }
   ],
   "source": [
    "A@(u + v)"
   ]
  },
  {
   "cell_type": "code",
   "execution_count": 96,
   "metadata": {},
   "outputs": [
    {
     "data": {
      "text/plain": [
       "array([[95],\n",
       "       [79]])"
      ]
     },
     "execution_count": 96,
     "metadata": {},
     "output_type": "execute_result"
    }
   ],
   "source": [
    "(A + B)@u"
   ]
  },
  {
   "cell_type": "code",
   "execution_count": 98,
   "metadata": {},
   "outputs": [
    {
     "data": {
      "text/plain": [
       "array([[95],\n",
       "       [79]])"
      ]
     },
     "execution_count": 98,
     "metadata": {},
     "output_type": "execute_result"
    }
   ],
   "source": [
    "A@u + B@u"
   ]
  },
  {
   "cell_type": "code",
   "execution_count": 100,
   "metadata": {},
   "outputs": [
    {
     "data": {
      "text/plain": [
       "array([[135],\n",
       "       [162]])"
      ]
     },
     "execution_count": 100,
     "metadata": {},
     "output_type": "execute_result"
    }
   ],
   "source": [
    "A@(3*u)"
   ]
  },
  {
   "cell_type": "code",
   "execution_count": 102,
   "metadata": {},
   "outputs": [
    {
     "data": {
      "text/plain": [
       "array([[135],\n",
       "       [162]])"
      ]
     },
     "execution_count": 102,
     "metadata": {},
     "output_type": "execute_result"
    }
   ],
   "source": [
    "3*A@u"
   ]
  },
  {
   "cell_type": "markdown",
   "metadata": {},
   "source": [
    "# Question 4: Linear Transformation\n",
    "\n",
    "Declare a vector $v = \\begin{bmatrix} 5  \\\\ -2 \\\\ \\end{bmatrix}$\n",
    "\n",
    "a) Rotations: Generate a matrix Q and Let Q act on the vector\n",
    "\n",
    "$Q = \\begin{bmatrix} cos(\\theta) & -sin(\\theta)   \\\\ sin(\\theta) & cos(\\theta)    \\\\ \\end{bmatrix}$ where $\\theta = pi / 6$\n",
    "\n",
    "- Repeat with $\\theta = -pi/3$\n",
    "- Use [matplotlib.pyplot.quiver](https://matplotlib.org/stable/api/_as_gen/matplotlib.pyplot.quiver.html) to plot the vectors. Ex: `plt.quiver(v1[0], v1[1], angles='xy', scale_units='xy', scale=1, color='red', alpha=1)`\n",
    "- Describe in words how the vector has changed.\n"
   ]
  },
  {
   "cell_type": "code",
   "execution_count": 104,
   "metadata": {},
   "outputs": [
    {
     "data": {
      "text/plain": [
       "array([[ 5],\n",
       "       [-2]])"
      ]
     },
     "execution_count": 104,
     "metadata": {},
     "output_type": "execute_result"
    }
   ],
   "source": [
    "v = np.array([[5],[-2]])\n",
    "v"
   ]
  },
  {
   "cell_type": "code",
   "execution_count": 109,
   "metadata": {},
   "outputs": [
    {
     "data": {
      "text/plain": [
       "array([[ 0.15425145, -0.98803162],\n",
       "       [ 0.98803162,  0.15425145]])"
      ]
     },
     "execution_count": 109,
     "metadata": {},
     "output_type": "execute_result"
    }
   ],
   "source": [
    "Q = np.array([np.cos(30),np.sin(30),-np.sin(30),np.cos(30)]).reshape(2,2)\n",
    "Q"
   ]
  },
  {
   "cell_type": "code",
   "execution_count": 115,
   "metadata": {},
   "outputs": [
    {
     "data": {
      "text/plain": [
       "<matplotlib.quiver.Quiver at 0x1c96d76d6d0>"
      ]
     },
     "execution_count": 115,
     "metadata": {},
     "output_type": "execute_result"
    },
    {
     "data": {
      "image/png": "[encoded data removed]",
      "text/plain": [
       "<Figure size 432x288 with 1 Axes>"
      ]
     },
     "metadata": {
      "needs_background": "light"
     },
     "output_type": "display_data"
    }
   ],
   "source": [
    "dots = Q@v\n",
    "plt.quiver(dots[0], dots[1], angles='xy', scale_units='xy', scale=1, color='red', alpha=1)"
   ]
  },
  {
   "cell_type": "code",
   "execution_count": null,
   "metadata": {},
   "outputs": [],
   "source": [
    "#type your code here:\n"
   ]
  },
  {
   "cell_type": "markdown",
   "metadata": {},
   "source": [
    "b) Dilations: Generate a matrix D by\n",
    "\n",
    "$D = \\begin{bmatrix} r & 0   \\\\ 0 & 1/r    \\\\ \\end{bmatrix}$ where $r = 0.9$\n",
    "\n",
    "- Repeat with $r = 0.8$\n",
    "- Use [matplotlib.pyplot.quiver](https://matplotlib.org/stable/api/_as_gen/matplotlib.pyplot.quiver.html) to plot the vectors\n",
    "- Describe in words how the vector has changed."
   ]
  },
  {
   "cell_type": "code",
   "execution_count": 124,
   "metadata": {},
   "outputs": [
    {
     "data": {
      "text/plain": [
       "<matplotlib.quiver.Quiver at 0x1c96df99af0>"
      ]
     },
     "execution_count": 124,
     "metadata": {},
     "output_type": "execute_result"
    },
    {
     "data": {
      "image/png": "[encoded data removed]",
      "text/plain": [
       "<Figure size 432x288 with 1 Axes>"
      ]
     },
     "metadata": {
      "needs_background": "light"
     },
     "output_type": "display_data"
    }
   ],
   "source": [
    "r = 0.9\n",
    "D = np.array([r,0,0,(1/r)]).reshape(2,2)\n",
    "plt.quiver((D@v)[0], (D@v)[1], angles='xy', scale_units='xy', scale=1, color='red', alpha=1)\n",
    "r = 0.8\n",
    "D = np.array([r,0,0,(1/r)]).reshape(2,2)\n",
    "plt.quiver((D@v)[0], (D@v)[1], angles='xy', scale_units='xy', scale=1, color='blue', alpha=1)"
   ]
  },
  {
   "cell_type": "code",
   "execution_count": null,
   "metadata": {},
   "outputs": [],
   "source": [
    "#type your code here:\n"
   ]
  },
  {
   "cell_type": "markdown",
   "metadata": {},
   "source": [
    "c) Shearing Transformations: Generate a matrix T by\n",
    "$T = \\begin{bmatrix} 1 & t   \\\\ 0 & 1    \\\\ \\end{bmatrix}$ where $t = 0.5$\n",
    "\n",
    "- Repeat with $t = -0.5$\n",
    "- Use [matplotlib.pyplot.quiver](https://matplotlib.org/stable/api/_as_gen/matplotlib.pyplot.quiver.html) to plot the vectors\n",
    "- Describe in words how the vector has changed."
   ]
  },
  {
   "cell_type": "code",
   "execution_count": 125,
   "metadata": {},
   "outputs": [
    {
     "data": {
      "text/plain": [
       "<matplotlib.quiver.Quiver at 0x1c96d755580>"
      ]
     },
     "execution_count": 125,
     "metadata": {},
     "output_type": "execute_result"
    },
    {
     "data": {
      "image/png": "[encoded data removed]",
      "text/plain": [
       "<Figure size 432x288 with 1 Axes>"
      ]
     },
     "metadata": {
      "needs_background": "light"
     },
     "output_type": "display_data"
    }
   ],
   "source": [
    "t = 0.5\n",
    "T = np.array([1,t,0,1]).reshape(2,2)\n",
    "plt.quiver((T@v)[0], (T@v)[1], angles='xy', scale_units='xy', scale=1, color='red', alpha=1)\n",
    "t = -0.5\n",
    "T = np.array([1,t,0,1]).reshape(2,2)\n",
    "plt.quiver((T@v)[0], (T@v)[1], angles='xy', scale_units='xy', scale=1, color='blue', alpha=1)"
   ]
  },
  {
   "cell_type": "code",
   "execution_count": null,
   "metadata": {},
   "outputs": [],
   "source": [
    "#type your code here:\n"
   ]
  }
 ],
 "metadata": {
  "kernelspec": {
   "display_name": "Python 3",
   "language": "python",
   "name": "python3"
  },
  "language_info": {
   "codemirror_mode": {
    "name": "ipython",
    "version": 3
   },
   "file_extension": ".py",
   "mimetype": "text/x-python",
   "name": "python",
   "nbconvert_exporter": "python",
   "pygments_lexer": "ipython3",
   "version": "3.8.3"
  }
 },
 "nbformat": 4,
 "nbformat_minor": 4
}
